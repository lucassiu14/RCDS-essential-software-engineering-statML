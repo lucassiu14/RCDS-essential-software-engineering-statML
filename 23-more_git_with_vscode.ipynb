{
 "cells": [
  {
   "cell_type": "markdown",
   "metadata": {},
   "source": [
    "# Git: Ignoring Files and Undoing Changes\n",
    "\n",
    "## Objectives\n",
    "- Learn how to tell Git to ignore certain files\n",
    "- Understand how to undo changes in Git\n",
    "- Learn the difference between `reset` and `revert`\n",
    "\n",
    "## Questions\n",
    "- How do I prevent Git from tracking files I don't want to share?\n",
    "- How can I undo changes I've made?\n",
    "- What's the difference between `reset` and `revert`?"
   ]
  },
  {
   "cell_type": "markdown",
   "metadata": {},
   "source": [
    "## Creating a Simple Python Module\n",
    "\n",
    "Let's start by creating a new Python file. In VS Code:\n",
    "\n",
    "1. Create a new file in the project root called `sort.py`\n",
    "2. Ask GitHub Copilot to help you write a `pivot_sort` function that pivot sorts a list in ascending order\n",
    "\n",
    "You should now have a Python file with a sorting function. Use the cell below to test it!\n",
    "\n",
    "**Please change the import if Copilot gave your function a different name**"
   ]
  },
  {
   "cell_type": "code",
   "execution_count": 2,
   "metadata": {},
   "outputs": [
    {
     "data": {
      "text/plain": [
       "[1, 2, 3, 5, 8, 9]"
      ]
     },
     "execution_count": 2,
     "metadata": {},
     "output_type": "execute_result"
    }
   ],
   "source": [
    "from sort import pivot_sort  # or whatever name Copilot gave the function\n",
    "\n",
    "# Let's test it with a sample list\n",
    "numbers = [5, 2, 8, 1, 9, 3]\n",
    "pivot_sort(numbers)"
   ]
  },
  {
   "cell_type": "markdown",
   "metadata": {},
   "source": [
    "## Unwanted Files\n",
    "\n",
    "After running the code, you'll notice something new in your Source Control panel: `.pyc` files in a `__pycache__` directory.\n",
    "\n",
    "<img src=\"resources/git/pycache-appears.png\" width=\"30%\"/>\n",
    "\n",
    "This directory contains compiled Python files (`.pyc`) that Python creates to run your code more efficiently. However:\n",
    "- These files are automatically generated\n",
    "- They're different on each computer\n",
    "- We don't need to track them in Git\n",
    "\n",
    "This is where `.gitignore` comes in!"
   ]
  },
  {
   "cell_type": "markdown",
   "metadata": {},
   "source": [
    "## Creating a .gitignore File\n",
    "\n",
    "1. Create a new file at the root of your project called `.gitignore` (note the starting dot)\n",
    "2. Add this line to ignore Python cache directories:\n",
    "   ```\n",
    "   __pycache__/\n",
    "   ```\n",
    "\n",
    "You'll notice the file disappears from the Source Control panel!\n",
    "\n",
    "The `.gitignore` file tells Git which files and directories to ignore. Common things to ignore:\n",
    "- Compile/build directories (`__pycache__/`, `build/`)\n",
    "- Environment files (`.env`)\n",
    "- IDE settings (`.vscode/`)\n",
    "- Log files (`*.log`)\n",
    "\n",
    "### Don't forget to commit!\n",
    "\n",
    "The `.gitignore` file is a file too, which will need to be tracked by Git. \n",
    "\n",
    "**Commit** the `.gitignore`, then **commit** `sort.py`."
   ]
  },
  {
   "cell_type": "markdown",
   "metadata": {},
   "source": [
    "## More Changes with Git\n",
    "\n",
    "Next we'll learn to commit parts of a file, undo parts of a file, and even undo whole commits! Git provides three main ways to undo:\n",
    "- `discard`: Removes pending changes in unstaged files\n",
    "- `reset`: Removes commits from history (like they never happened)\n",
    "- `revert`: Adds new commits that undo previous changes\n",
    "\n",
    "Let's first commit parts of a file, then try these out!"
   ]
  },
  {
   "cell_type": "markdown",
   "metadata": {},
   "source": [
    "## Block Staging and Discard\n",
    "\n",
    "Recall that we can visually see the pending changes in an unstaged file, by clicking that file in **Source Control**. When observing those changes we can specify certain blocks to stage, or certain blocks to discard. Let's try it!\n",
    "\n",
    "1. Go back to `sort.py` and ask Copilot to add code comments and add (or rewrite) the docstring to `pivot_sort`\n",
    "2. Ensure at least **four changes** have been added\n",
    "3. Visit the **Source Control Panel** and click on `sort.py` to see the pending changes\n",
    "\n",
    "<img src=\"resources/git/line-by-line.png\" width=\"90%\"/>\n",
    "\n",
    "\n",
    "4. Notice the `→` and `+` symbols in the column that splits the two versions of the files\n",
    "5. We can use `+` to stage a change in a specific block of code\n",
    "6. We can use `→` to discard a change in a specific block of code\n",
    "   * **Be warned that this will delete code! If done in error, visit the file and undo with `Ctrl+Z`**\n",
    "\n",
    "### Try it out!\n",
    "\n",
    "1. Commit **one block** of the `sort.py` file - maybe the docstring\n",
    "2. Discard **one block** - maybe a comment you're not convinced is useful\n",
    "3. Commit **another block** - maybe a comment you think is great\n",
    "3. Discard the **all other changes** - use the back arrow `↶` in the **Source Control** panel\n",
    "\n",
    "   <img src=\"resources/git/file-discard.png\" width=\"20%\"/>\n",
    "\n",
    "⚠️ Block staging is not currently supported in Jupyter Notebooks."
   ]
  },
  {
   "cell_type": "markdown",
   "metadata": {},
   "source": [
    "## Reset\n",
    "\n",
    "Maybe you're thinking: that comment we committed wasn't so great anyways.\n",
    "\n",
    "We can roll back to the commit before it to undo the change like so:\n",
    "\n",
    "1. Click the **Git Graph** button above the commit message field\n",
    "\n",
    "    <img src=\"resources/git/reset-option.png\" width=\"30%\"/>\n",
    "2. This opens a new window showing your commits.\n",
    "3. Right-click the commit before the great comment (docstring commit)\n",
    "4. Select 'Reset current branch to this Commit...'\n",
    "\n",
    "    <img src=\"resources/git/reset-drop-down.png\" width=\"20%\"/>\n",
    "5. The following options are available:\n",
    "    * Mixed (Default) - Keeps files as they are but unstages everything. Your changes remain in your files but you'll need to stage them and commit.\n",
    "    * Soft - The gentlest option. Keeps all your changes staged and ready to commit. Useful if you just want to reorganise your commits.\n",
    "    * Hard - The most aggressive option. This completely discards all changes and reverts your files to the state they were in at the target commit. **This is permanent and cannot be undone, so it should be used with caution.**\n",
    "6. Choose **Mixed**.\n",
    "\n",
    "The commits made after your selected point disappear completely!\n",
    "\n",
    "⚠️ **Warning**: All resets *rewrite history* (even a soft reset). Only use it on commits you haven't shared with others!"
   ]
  },
  {
   "cell_type": "markdown",
   "metadata": {},
   "source": [
    "## Using Revert\n",
    "\n",
    "Now let's try revert:\n",
    "\n",
    "1. Make another small change to `sort.py`\n",
    "2. Commit it\n",
    "3. Go back to **Git Graph** and right-click the commit\n",
    "4. This time, select 'Revert...' and confirm your selection\n",
    "\n",
    "Notice the difference:\n",
    "- The original commit stays in history\n",
    "- A new commit is created that undoes the changes\n",
    "- Git Graph shows both commits\n",
    "\n",
    "    <img src=\"resources/git/revert-commit.png\" width=\"20%\"/>\n",
    "    \n",
    "This is safer than reset because:\n",
    "- History is preserved\n",
    "- Others can see what happened\n",
    "- You can undo the revert if needed"
   ]
  },
  {
   "cell_type": "markdown",
   "metadata": {},
   "source": [
    "## Let's Practice!\n",
    "\n",
    "Try these exercises:\n",
    "\n",
    "1. Add more patterns to your `.gitignore`:\n",
    "   - Add `*.pyc` to ignore all compiled Python files\n",
    "   - Add `.DS_Store` to ignore Mac system files\n",
    "   - Commit your changes\n",
    "\n",
    "2. Practise reset:\n",
    "   - Make some changes to `sort.py`\n",
    "   - Commit them\n",
    "   - Use reset to undo them\n",
    "   - What happened to your files?\n",
    "\n",
    "3. Practice revert:\n",
    "   - Make and commit new changes\n",
    "   - Revert your commit\n",
    "   - Look at the Git Graph\n",
    "   - How is this different from reset?\n",
    "\n",
    "### Questions to Think About\n",
    "- When would you use reset vs. revert?\n",
    "- What other files might you want to ignore in your projects?\n",
    "- What happens if you try to reset a commit you've already pushed?"
   ]
  },
  {
   "cell_type": "markdown",
   "metadata": {},
   "source": [
    "## Key Points\n",
    "\n",
    "- Use `.gitignore` to prevent Git from tracking unwanted files\n",
    "- `discard` removes pending changes in unstaged files\n",
    "- `reset` removes commits from history (use only on local changes)\n",
    "- `revert` creates new commits that undo changes (safer for shared work)"
   ]
  }
 ],
 "metadata": {
  "kernelspec": {
   "display_name": "base",
   "language": "python",
   "name": "python3"
  },
  "language_info": {
   "codemirror_mode": {
    "name": "ipython",
    "version": 3
   },
   "file_extension": ".py",
   "mimetype": "text/x-python",
   "name": "python",
   "nbconvert_exporter": "python",
   "pygments_lexer": "ipython3",
   "version": "3.12.7"
  }
 },
 "nbformat": 4,
 "nbformat_minor": 4
}
